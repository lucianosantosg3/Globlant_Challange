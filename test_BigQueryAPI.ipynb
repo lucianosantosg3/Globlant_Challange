{
 "cells": [
  {
   "cell_type": "code",
   "execution_count": 4,
   "id": "9138e930-706c-49aa-a7d0-ab7715d52ca2",
   "metadata": {},
   "outputs": [],
   "source": [
    "import pandas as pd\n",
    "import pytest\n",
    "from io import StringIO\n",
    "from unittest.mock import patch, MagicMock\n",
    "from BigQueryAPI import load_departments, load_jobs, load_employees, process_employee, load_to_bigquery"
   ]
  },
  {
   "cell_type": "code",
   "execution_count": 5,
   "id": "0c75ae2d-e4ee-421f-a805-debc61e28df3",
   "metadata": {},
   "outputs": [],
   "source": [
    "# Test load_departments using a StringIO object to simulate a CSV file\n",
    "def test_load_departments(tmp_path):\n",
    "    # Create a temporary CSV file\n",
    "    csv_content = \"1,Product Management\\n2,Marketing\"\n",
    "    file_path = tmp_path / \"departments.csv\"\n",
    "    file_path.write_text(csv_content)\n",
    "    \n",
    "    df = load_departments(str(file_path), ['id', 'department'])\n",
    "    # Check DataFrame shape and values\n",
    "    assert df.shape == (2, 2)\n",
    "    assert df.iloc[0]['department'] == \"Product Management\"\n",
    "\n"
   ]
  },
  {
   "cell_type": "code",
   "execution_count": 6,
   "id": "0b265576-42b7-44e5-96fd-4bcfee5b776f",
   "metadata": {},
   "outputs": [],
   "source": [
    "# Test load_departments using a StringIO object to simulate a CSV file\n",
    "def test_load_jobs(tmp_path):\n",
    "    # Create a temporary CSV file\n",
    "    csv_content = \"1,Marketing Assistant\\n2,VP Sales\"\n",
    "    file_path = tmp_path / \"jobs.csv\"\n",
    "    file_path.write_text(csv_content)\n",
    "    \n",
    "    df = load_departments(str(file_path), ['id', 'job'])\n",
    "    # Check DataFrame shape and values\n",
    "    assert df.shape == (2, 2)\n",
    "    assert df.iloc[0]['job'] == \"Marketing Assistant\""
   ]
  },
  {
   "cell_type": "code",
   "execution_count": 7,
   "id": "76ee856f-c625-4389-893b-cb708aa0257c",
   "metadata": {},
   "outputs": [],
   "source": [
    "# Test process_employee function\n",
    "def test_process_employee():\n",
    "    # Create a sample DataFrame similar to what you expect for employee data\n",
    "    data = {\n",
    "        'datetime': ['2021-11-07T02:48:42Z', '2021-12-08T03:50:00Z']\n",
    "    }\n",
    "    df = pd.DataFrame(data)\n",
    "    processed_df = process_employee(df)\n",
    "    \n",
    "    # Check that the datetime is truncated to 'YYYY-MM-DD'\n",
    "    assert processed_df['datetime'].iloc[0].strftime('%Y-%m-%d') == '2021-11-07'\n",
    "    assert processed_df['datetime'].iloc[1].strftime('%Y-%m-%d') == '2021-12-08'\n",
    "\n"
   ]
  },
  {
   "cell_type": "code",
   "execution_count": 8,
   "id": "1e87e1e9-3ac2-4f2d-a65d-a097fcad9fb4",
   "metadata": {},
   "outputs": [],
   "source": [
    "# Test load_to_bigquery function by mocking the to_gbq method\n",
    "@patch('BigQueryAPI.pd.DataFrame.to_gbq')\n",
    "def test_load_to_bigquery(mock_to_gbq):\n",
    "    # Create a sample DataFrame\n",
    "    df = pd.DataFrame({'id': [1, 2], 'department': ['A', 'B']})\n",
    "    \n",
    "    # Create a fake credentials object with a dummy project_id attribute\n",
    "    fake_credentials = MagicMock()\n",
    "    fake_credentials.project_id = 'fake_project'\n",
    "    \n",
    "    table_schema = [\n",
    "        {'name': 'id', 'type': 'INTEGER'},\n",
    "        {'name': 'department', 'type': 'STRING'}\n",
    "    ]\n",
    "    \n",
    "    # Call the function under test\n",
    "    load_to_bigquery(df, destination_table='dataset.department', table_schema=table_schema, credentials=fake_credentials)\n",
    "    \n",
    "    # Assert that the to_gbq function was called with the expected parameters\n",
    "    mock_to_gbq.assert_called_once()\n",
    "    args, kwargs = mock_to_gbq.call_args\n",
    "    assert kwargs['destination_table'] == 'dataset.department'\n",
    "    assert kwargs['if_exists'] == 'replace'\n",
    "    assert kwargs['table_schema'] == table_schema\n",
    "    # Check that credentials and project_id are properly passed\n",
    "    assert kwargs['credentials'] == fake_credentials\n",
    "    assert kwargs['project_id'] == 'fake_project'\n"
   ]
  }
 ],
 "metadata": {
  "kernelspec": {
   "display_name": "Python 3 (ipykernel)",
   "language": "python",
   "name": "python3"
  },
  "language_info": {
   "codemirror_mode": {
    "name": "ipython",
    "version": 3
   },
   "file_extension": ".py",
   "mimetype": "text/x-python",
   "name": "python",
   "nbconvert_exporter": "python",
   "pygments_lexer": "ipython3",
   "version": "3.12.7"
  }
 },
 "nbformat": 4,
 "nbformat_minor": 5
}
