{
 "cells": [
  {
   "cell_type": "code",
   "execution_count": 5,
   "id": "3b09cc44-2919-4cd0-8654-fb503b3f9481",
   "metadata": {},
   "outputs": [],
   "source": [
    "#!pip install google-auth"
   ]
  },
  {
   "cell_type": "code",
   "execution_count": 1,
   "id": "0e9a58c5-468a-40a4-aae2-c317f9f8ecd6",
   "metadata": {},
   "outputs": [],
   "source": [
    "import pandas as pd\n",
    "from google.oauth2 import service_account\n",
    "from google.cloud import bigquery"
   ]
  },
  {
   "cell_type": "code",
   "execution_count": 2,
   "id": "7e654699-b13c-4d8c-9efd-f9a913b3b74a",
   "metadata": {},
   "outputs": [],
   "source": [
    "def load_departments(csv_path, column_names):\n",
    "    return pd.read_csv(csv_path, names=column_names)\n",
    "\n",
    "def load_jobs(csv_path, column_names):\n",
    "    return pd.read_csv(csv_path, names=column_names)\n",
    "\n",
    "def load_employees(csv_path, column_names):\n",
    "    \"\"\"Load jobs CSV into a DataFrame.\"\"\"\n",
    "    return pd.read_csv(csv_path, names=column_names)"
   ]
  },
  {
   "cell_type": "code",
   "execution_count": 3,
   "id": "a659df2a-30d7-4c34-93d0-dd9152dd7c7b",
   "metadata": {},
   "outputs": [],
   "source": [
    "def process_employee(employee_df):\n",
    "    \"\"\"Process the employee DataFrame by formatting the datetime column.\"\"\"\n",
    "    # Convert datetime column to string for processing (if needed)\n",
    "    employee_df['datetime'] = employee_df['datetime'].astype(str)\n",
    "    # Truncate time\n",
    "    employee_df['datetime'] = employee_df['datetime'].apply(lambda x: x[0:10])\n",
    "    # Convert string dates to datetime objects\n",
    "    employee_df['datetime'] = pd.to_datetime(employee_df['datetime'])\n",
    "    return employee_df\n",
    "\n",
    "def load_to_bigquery(df, destination_table, table_schema, credentials, if_exists='replace'):\n",
    "    \"\"\"Load DataFrame to BigQuery using the pandas to_gbq method.\"\"\"\n",
    "    # Here we assume to_gbq is imported from pandas_gbq\n",
    "    # (or you could call df.to_gbq if that's how you’re using it)\n",
    "    df.to_gbq(\n",
    "        destination_table=destination_table,\n",
    "        project_id=credentials.project_id,\n",
    "        if_exists=if_exists,\n",
    "        table_schema=table_schema,\n",
    "        credentials=credentials\n",
    "    )"
   ]
  },
  {
   "cell_type": "code",
   "execution_count": 6,
   "id": "ba33c46b-13aa-4265-b6f9-b3ab91f9cfbe",
   "metadata": {},
   "outputs": [
    {
     "name": "stderr",
     "output_type": "stream",
     "text": [
      "C:\\Users\\lucia\\AppData\\Local\\Temp\\ipykernel_7716\\3817221837.py:23: FutureWarning: to_gbq is deprecated and will be removed in a future version. Please use pandas_gbq.to_gbq instead: https://pandas-gbq.readthedocs.io/en/latest/api.html#pandas_gbq.to_gbq\n",
      "  department.to_gbq(credentials=credentials,\n"
     ]
    },
    {
     "ename": "RefreshError",
     "evalue": "('invalid_grant: Invalid JWT Signature.', {'error': 'invalid_grant', 'error_description': 'Invalid JWT Signature.'})",
     "output_type": "error",
     "traceback": [
      "\u001b[1;31m---------------------------------------------------------------------------\u001b[0m",
      "\u001b[1;31mRefreshError\u001b[0m                              Traceback (most recent call last)",
      "Cell \u001b[1;32mIn[6], line 23\u001b[0m\n\u001b[0;32m     13\u001b[0m credentials \u001b[38;5;241m=\u001b[39m service_account\u001b[38;5;241m.\u001b[39mCredentials\u001b[38;5;241m.\u001b[39mfrom_service_account_file(\n\u001b[0;32m     14\u001b[0m     \u001b[38;5;124m'\u001b[39m\u001b[38;5;124mC:\u001b[39m\u001b[38;5;130;01m\\\\\u001b[39;00m\u001b[38;5;124mUsers\u001b[39m\u001b[38;5;130;01m\\\\\u001b[39;00m\u001b[38;5;124mlucia\u001b[39m\u001b[38;5;130;01m\\\\\u001b[39;00m\u001b[38;5;124mDocuments\u001b[39m\u001b[38;5;130;01m\\\\\u001b[39;00m\u001b[38;5;124mGBQ.json\u001b[39m\u001b[38;5;124m'\u001b[39m,\n\u001b[0;32m     15\u001b[0m     scopes\u001b[38;5;241m=\u001b[39m[\u001b[38;5;124m'\u001b[39m\u001b[38;5;124mhttps://www.googleapis.com/auth/bigquery\u001b[39m\u001b[38;5;124m'\u001b[39m]\n\u001b[0;32m     16\u001b[0m )\n\u001b[0;32m     18\u001b[0m table_schema \u001b[38;5;241m=\u001b[39m [\n\u001b[0;32m     19\u001b[0m {\u001b[38;5;124m'\u001b[39m\u001b[38;5;124mname\u001b[39m\u001b[38;5;124m'\u001b[39m: \u001b[38;5;124m'\u001b[39m\u001b[38;5;124mid\u001b[39m\u001b[38;5;124m'\u001b[39m, \u001b[38;5;124m'\u001b[39m\u001b[38;5;124mtype\u001b[39m\u001b[38;5;124m'\u001b[39m: \u001b[38;5;124m'\u001b[39m\u001b[38;5;124mINTEGER\u001b[39m\u001b[38;5;124m'\u001b[39m},\n\u001b[0;32m     20\u001b[0m {\u001b[38;5;124m'\u001b[39m\u001b[38;5;124mname\u001b[39m\u001b[38;5;124m'\u001b[39m: \u001b[38;5;124m'\u001b[39m\u001b[38;5;124mdepartment\u001b[39m\u001b[38;5;124m'\u001b[39m, \u001b[38;5;124m'\u001b[39m\u001b[38;5;124mtype\u001b[39m\u001b[38;5;124m'\u001b[39m: \u001b[38;5;124m'\u001b[39m\u001b[38;5;124mSTRING\u001b[39m\u001b[38;5;124m'\u001b[39m}  \u001b[38;5;66;03m# Explicitly setting as DATE\u001b[39;00m\n\u001b[0;32m     21\u001b[0m ]\n\u001b[1;32m---> 23\u001b[0m department\u001b[38;5;241m.\u001b[39mto_gbq(credentials\u001b[38;5;241m=\u001b[39mcredentials,\n\u001b[0;32m     24\u001b[0m                              destination_table\u001b[38;5;241m=\u001b[39m\u001b[38;5;124m'\u001b[39m\u001b[38;5;124mdataset.department\u001b[39m\u001b[38;5;124m'\u001b[39m,\n\u001b[0;32m     25\u001b[0m                              if_exists\u001b[38;5;241m=\u001b[39m\u001b[38;5;124m'\u001b[39m\u001b[38;5;124mreplace\u001b[39m\u001b[38;5;124m'\u001b[39m,\n\u001b[0;32m     26\u001b[0m                              table_schema\u001b[38;5;241m=\u001b[39mtable_schema)\n\u001b[0;32m     28\u001b[0m table_schema \u001b[38;5;241m=\u001b[39m [\n\u001b[0;32m     29\u001b[0m {\u001b[38;5;124m'\u001b[39m\u001b[38;5;124mname\u001b[39m\u001b[38;5;124m'\u001b[39m: \u001b[38;5;124m'\u001b[39m\u001b[38;5;124mid\u001b[39m\u001b[38;5;124m'\u001b[39m, \u001b[38;5;124m'\u001b[39m\u001b[38;5;124mtype\u001b[39m\u001b[38;5;124m'\u001b[39m: \u001b[38;5;124m'\u001b[39m\u001b[38;5;124mINTEGER\u001b[39m\u001b[38;5;124m'\u001b[39m},\n\u001b[0;32m     30\u001b[0m {\u001b[38;5;124m'\u001b[39m\u001b[38;5;124mname\u001b[39m\u001b[38;5;124m'\u001b[39m: \u001b[38;5;124m'\u001b[39m\u001b[38;5;124mname\u001b[39m\u001b[38;5;124m'\u001b[39m, \u001b[38;5;124m'\u001b[39m\u001b[38;5;124mtype\u001b[39m\u001b[38;5;124m'\u001b[39m: \u001b[38;5;124m'\u001b[39m\u001b[38;5;124mSTRING\u001b[39m\u001b[38;5;124m'\u001b[39m},\n\u001b[1;32m   (...)\u001b[0m\n\u001b[0;32m     33\u001b[0m {\u001b[38;5;124m'\u001b[39m\u001b[38;5;124mname\u001b[39m\u001b[38;5;124m'\u001b[39m: \u001b[38;5;124m'\u001b[39m\u001b[38;5;124mjob_id\u001b[39m\u001b[38;5;124m'\u001b[39m, \u001b[38;5;124m'\u001b[39m\u001b[38;5;124mtype\u001b[39m\u001b[38;5;124m'\u001b[39m: \u001b[38;5;124m'\u001b[39m\u001b[38;5;124mINTEGER\u001b[39m\u001b[38;5;124m'\u001b[39m}\n\u001b[0;32m     34\u001b[0m ]\n\u001b[0;32m     36\u001b[0m employee\u001b[38;5;241m.\u001b[39mto_gbq(credentials\u001b[38;5;241m=\u001b[39mcredentials,\n\u001b[0;32m     37\u001b[0m                              destination_table\u001b[38;5;241m=\u001b[39m\u001b[38;5;124m'\u001b[39m\u001b[38;5;124mdataset.employee\u001b[39m\u001b[38;5;124m'\u001b[39m,\n\u001b[0;32m     38\u001b[0m                              if_exists\u001b[38;5;241m=\u001b[39m\u001b[38;5;124m'\u001b[39m\u001b[38;5;124mreplace\u001b[39m\u001b[38;5;124m'\u001b[39m,\n\u001b[0;32m     39\u001b[0m                              table_schema\u001b[38;5;241m=\u001b[39mtable_schema)\n",
      "File \u001b[1;32m~\\anaconda3\\Lib\\site-packages\\pandas\\util\\_decorators.py:333\u001b[0m, in \u001b[0;36mdeprecate_nonkeyword_arguments.<locals>.decorate.<locals>.wrapper\u001b[1;34m(*args, **kwargs)\u001b[0m\n\u001b[0;32m    327\u001b[0m \u001b[38;5;28;01mif\u001b[39;00m \u001b[38;5;28mlen\u001b[39m(args) \u001b[38;5;241m>\u001b[39m num_allow_args:\n\u001b[0;32m    328\u001b[0m     warnings\u001b[38;5;241m.\u001b[39mwarn(\n\u001b[0;32m    329\u001b[0m         msg\u001b[38;5;241m.\u001b[39mformat(arguments\u001b[38;5;241m=\u001b[39m_format_argument_list(allow_args)),\n\u001b[0;32m    330\u001b[0m         \u001b[38;5;167;01mFutureWarning\u001b[39;00m,\n\u001b[0;32m    331\u001b[0m         stacklevel\u001b[38;5;241m=\u001b[39mfind_stack_level(),\n\u001b[0;32m    332\u001b[0m     )\n\u001b[1;32m--> 333\u001b[0m \u001b[38;5;28;01mreturn\u001b[39;00m func(\u001b[38;5;241m*\u001b[39margs, \u001b[38;5;241m*\u001b[39m\u001b[38;5;241m*\u001b[39mkwargs)\n",
      "File \u001b[1;32m~\\anaconda3\\Lib\\site-packages\\pandas\\core\\frame.py:2304\u001b[0m, in \u001b[0;36mDataFrame.to_gbq\u001b[1;34m(self, destination_table, project_id, chunksize, reauth, if_exists, auth_local_webserver, table_schema, location, progress_bar, credentials)\u001b[0m\n\u001b[0;32m   2196\u001b[0m \u001b[38;5;250m\u001b[39m\u001b[38;5;124;03m\"\"\"\u001b[39;00m\n\u001b[0;32m   2197\u001b[0m \u001b[38;5;124;03mWrite a DataFrame to a Google BigQuery table.\u001b[39;00m\n\u001b[0;32m   2198\u001b[0m \n\u001b[1;32m   (...)\u001b[0m\n\u001b[0;32m   2300\u001b[0m \u001b[38;5;124;03m>>> df.to_gbq(table_id, project_id=project_id)  # doctest: +SKIP\u001b[39;00m\n\u001b[0;32m   2301\u001b[0m \u001b[38;5;124;03m\"\"\"\u001b[39;00m\n\u001b[0;32m   2302\u001b[0m \u001b[38;5;28;01mfrom\u001b[39;00m \u001b[38;5;21;01mpandas\u001b[39;00m\u001b[38;5;21;01m.\u001b[39;00m\u001b[38;5;21;01mio\u001b[39;00m \u001b[38;5;28;01mimport\u001b[39;00m gbq\n\u001b[1;32m-> 2304\u001b[0m gbq\u001b[38;5;241m.\u001b[39mto_gbq(\n\u001b[0;32m   2305\u001b[0m     \u001b[38;5;28mself\u001b[39m,\n\u001b[0;32m   2306\u001b[0m     destination_table,\n\u001b[0;32m   2307\u001b[0m     project_id\u001b[38;5;241m=\u001b[39mproject_id,\n\u001b[0;32m   2308\u001b[0m     chunksize\u001b[38;5;241m=\u001b[39mchunksize,\n\u001b[0;32m   2309\u001b[0m     reauth\u001b[38;5;241m=\u001b[39mreauth,\n\u001b[0;32m   2310\u001b[0m     if_exists\u001b[38;5;241m=\u001b[39mif_exists,\n\u001b[0;32m   2311\u001b[0m     auth_local_webserver\u001b[38;5;241m=\u001b[39mauth_local_webserver,\n\u001b[0;32m   2312\u001b[0m     table_schema\u001b[38;5;241m=\u001b[39mtable_schema,\n\u001b[0;32m   2313\u001b[0m     location\u001b[38;5;241m=\u001b[39mlocation,\n\u001b[0;32m   2314\u001b[0m     progress_bar\u001b[38;5;241m=\u001b[39mprogress_bar,\n\u001b[0;32m   2315\u001b[0m     credentials\u001b[38;5;241m=\u001b[39mcredentials,\n\u001b[0;32m   2316\u001b[0m )\n",
      "File \u001b[1;32m~\\anaconda3\\Lib\\site-packages\\pandas\\io\\gbq.py:243\u001b[0m, in \u001b[0;36mto_gbq\u001b[1;34m(dataframe, destination_table, project_id, chunksize, reauth, if_exists, auth_local_webserver, table_schema, location, progress_bar, credentials)\u001b[0m\n\u001b[0;32m    235\u001b[0m warnings\u001b[38;5;241m.\u001b[39mwarn(\n\u001b[0;32m    236\u001b[0m     \u001b[38;5;124m\"\u001b[39m\u001b[38;5;124mto_gbq is deprecated and will be removed in a future version. \u001b[39m\u001b[38;5;124m\"\u001b[39m\n\u001b[0;32m    237\u001b[0m     \u001b[38;5;124m\"\u001b[39m\u001b[38;5;124mPlease use pandas_gbq.to_gbq instead: \u001b[39m\u001b[38;5;124m\"\u001b[39m\n\u001b[1;32m   (...)\u001b[0m\n\u001b[0;32m    240\u001b[0m     stacklevel\u001b[38;5;241m=\u001b[39mfind_stack_level(),\n\u001b[0;32m    241\u001b[0m )\n\u001b[0;32m    242\u001b[0m pandas_gbq \u001b[38;5;241m=\u001b[39m _try_import()\n\u001b[1;32m--> 243\u001b[0m pandas_gbq\u001b[38;5;241m.\u001b[39mto_gbq(\n\u001b[0;32m    244\u001b[0m     dataframe,\n\u001b[0;32m    245\u001b[0m     destination_table,\n\u001b[0;32m    246\u001b[0m     project_id\u001b[38;5;241m=\u001b[39mproject_id,\n\u001b[0;32m    247\u001b[0m     chunksize\u001b[38;5;241m=\u001b[39mchunksize,\n\u001b[0;32m    248\u001b[0m     reauth\u001b[38;5;241m=\u001b[39mreauth,\n\u001b[0;32m    249\u001b[0m     if_exists\u001b[38;5;241m=\u001b[39mif_exists,\n\u001b[0;32m    250\u001b[0m     auth_local_webserver\u001b[38;5;241m=\u001b[39mauth_local_webserver,\n\u001b[0;32m    251\u001b[0m     table_schema\u001b[38;5;241m=\u001b[39mtable_schema,\n\u001b[0;32m    252\u001b[0m     location\u001b[38;5;241m=\u001b[39mlocation,\n\u001b[0;32m    253\u001b[0m     progress_bar\u001b[38;5;241m=\u001b[39mprogress_bar,\n\u001b[0;32m    254\u001b[0m     credentials\u001b[38;5;241m=\u001b[39mcredentials,\n\u001b[0;32m    255\u001b[0m )\n",
      "File \u001b[1;32m~\\anaconda3\\Lib\\site-packages\\pandas_gbq\\gbq.py:1203\u001b[0m, in \u001b[0;36mto_gbq\u001b[1;34m(dataframe, destination_table, project_id, chunksize, reauth, if_exists, auth_local_webserver, table_schema, location, progress_bar, credentials, api_method, verbose, private_key, auth_redirect_uri, client_id, client_secret, user_agent, rfc9110_delimiter, bigquery_client)\u001b[0m\n\u001b[0;32m   1197\u001b[0m     table_schema \u001b[38;5;241m=\u001b[39m pandas_gbq\u001b[38;5;241m.\u001b[39mschema\u001b[38;5;241m.\u001b[39mupdate_schema(\n\u001b[0;32m   1198\u001b[0m         default_schema, \u001b[38;5;28mdict\u001b[39m(fields\u001b[38;5;241m=\u001b[39mtable_schema)\n\u001b[0;32m   1199\u001b[0m     )\n\u001b[0;32m   1201\u001b[0m \u001b[38;5;28;01mtry\u001b[39;00m:\n\u001b[0;32m   1202\u001b[0m     \u001b[38;5;66;03m# Try to get the table\u001b[39;00m\n\u001b[1;32m-> 1203\u001b[0m     table \u001b[38;5;241m=\u001b[39m bqclient\u001b[38;5;241m.\u001b[39mget_table(destination_table_ref)\n\u001b[0;32m   1204\u001b[0m \u001b[38;5;28;01mexcept\u001b[39;00m google_exceptions\u001b[38;5;241m.\u001b[39mNotFound:\n\u001b[0;32m   1205\u001b[0m     \u001b[38;5;66;03m# If the table doesn't already exist, create it\u001b[39;00m\n\u001b[0;32m   1206\u001b[0m     table_connector \u001b[38;5;241m=\u001b[39m _Table(\n\u001b[0;32m   1207\u001b[0m         project_id_table,\n\u001b[0;32m   1208\u001b[0m         dataset_id,\n\u001b[0;32m   1209\u001b[0m         location\u001b[38;5;241m=\u001b[39mlocation,\n\u001b[0;32m   1210\u001b[0m         credentials\u001b[38;5;241m=\u001b[39mconnector\u001b[38;5;241m.\u001b[39mcredentials,\n\u001b[0;32m   1211\u001b[0m     )\n",
      "File \u001b[1;32m~\\anaconda3\\Lib\\site-packages\\google\\cloud\\bigquery\\client.py:1170\u001b[0m, in \u001b[0;36mClient.get_table\u001b[1;34m(self, table, retry, timeout)\u001b[0m\n\u001b[0;32m   1168\u001b[0m path \u001b[38;5;241m=\u001b[39m table_ref\u001b[38;5;241m.\u001b[39mpath\n\u001b[0;32m   1169\u001b[0m span_attributes \u001b[38;5;241m=\u001b[39m {\u001b[38;5;124m\"\u001b[39m\u001b[38;5;124mpath\u001b[39m\u001b[38;5;124m\"\u001b[39m: path}\n\u001b[1;32m-> 1170\u001b[0m api_response \u001b[38;5;241m=\u001b[39m \u001b[38;5;28mself\u001b[39m\u001b[38;5;241m.\u001b[39m_call_api(\n\u001b[0;32m   1171\u001b[0m     retry,\n\u001b[0;32m   1172\u001b[0m     span_name\u001b[38;5;241m=\u001b[39m\u001b[38;5;124m\"\u001b[39m\u001b[38;5;124mBigQuery.getTable\u001b[39m\u001b[38;5;124m\"\u001b[39m,\n\u001b[0;32m   1173\u001b[0m     span_attributes\u001b[38;5;241m=\u001b[39mspan_attributes,\n\u001b[0;32m   1174\u001b[0m     method\u001b[38;5;241m=\u001b[39m\u001b[38;5;124m\"\u001b[39m\u001b[38;5;124mGET\u001b[39m\u001b[38;5;124m\"\u001b[39m,\n\u001b[0;32m   1175\u001b[0m     path\u001b[38;5;241m=\u001b[39mpath,\n\u001b[0;32m   1176\u001b[0m     timeout\u001b[38;5;241m=\u001b[39mtimeout,\n\u001b[0;32m   1177\u001b[0m )\n\u001b[0;32m   1178\u001b[0m \u001b[38;5;28;01mreturn\u001b[39;00m Table\u001b[38;5;241m.\u001b[39mfrom_api_repr(api_response)\n",
      "File \u001b[1;32m~\\anaconda3\\Lib\\site-packages\\google\\cloud\\bigquery\\client.py:843\u001b[0m, in \u001b[0;36mClient._call_api\u001b[1;34m(self, retry, span_name, span_attributes, job_ref, headers, **kwargs)\u001b[0m\n\u001b[0;32m    839\u001b[0m \u001b[38;5;28;01mif\u001b[39;00m span_name \u001b[38;5;129;01mis\u001b[39;00m \u001b[38;5;129;01mnot\u001b[39;00m \u001b[38;5;28;01mNone\u001b[39;00m:\n\u001b[0;32m    840\u001b[0m     \u001b[38;5;28;01mwith\u001b[39;00m create_span(\n\u001b[0;32m    841\u001b[0m         name\u001b[38;5;241m=\u001b[39mspan_name, attributes\u001b[38;5;241m=\u001b[39mspan_attributes, client\u001b[38;5;241m=\u001b[39m\u001b[38;5;28mself\u001b[39m, job_ref\u001b[38;5;241m=\u001b[39mjob_ref\n\u001b[0;32m    842\u001b[0m     ):\n\u001b[1;32m--> 843\u001b[0m         \u001b[38;5;28;01mreturn\u001b[39;00m call()\n\u001b[0;32m    845\u001b[0m \u001b[38;5;28;01mreturn\u001b[39;00m call()\n",
      "File \u001b[1;32m~\\anaconda3\\Lib\\site-packages\\google\\api_core\\retry\\retry_unary.py:293\u001b[0m, in \u001b[0;36mRetry.__call__.<locals>.retry_wrapped_func\u001b[1;34m(*args, **kwargs)\u001b[0m\n\u001b[0;32m    289\u001b[0m target \u001b[38;5;241m=\u001b[39m functools\u001b[38;5;241m.\u001b[39mpartial(func, \u001b[38;5;241m*\u001b[39margs, \u001b[38;5;241m*\u001b[39m\u001b[38;5;241m*\u001b[39mkwargs)\n\u001b[0;32m    290\u001b[0m sleep_generator \u001b[38;5;241m=\u001b[39m exponential_sleep_generator(\n\u001b[0;32m    291\u001b[0m     \u001b[38;5;28mself\u001b[39m\u001b[38;5;241m.\u001b[39m_initial, \u001b[38;5;28mself\u001b[39m\u001b[38;5;241m.\u001b[39m_maximum, multiplier\u001b[38;5;241m=\u001b[39m\u001b[38;5;28mself\u001b[39m\u001b[38;5;241m.\u001b[39m_multiplier\n\u001b[0;32m    292\u001b[0m )\n\u001b[1;32m--> 293\u001b[0m \u001b[38;5;28;01mreturn\u001b[39;00m retry_target(\n\u001b[0;32m    294\u001b[0m     target,\n\u001b[0;32m    295\u001b[0m     \u001b[38;5;28mself\u001b[39m\u001b[38;5;241m.\u001b[39m_predicate,\n\u001b[0;32m    296\u001b[0m     sleep_generator,\n\u001b[0;32m    297\u001b[0m     timeout\u001b[38;5;241m=\u001b[39m\u001b[38;5;28mself\u001b[39m\u001b[38;5;241m.\u001b[39m_timeout,\n\u001b[0;32m    298\u001b[0m     on_error\u001b[38;5;241m=\u001b[39mon_error,\n\u001b[0;32m    299\u001b[0m )\n",
      "File \u001b[1;32m~\\anaconda3\\Lib\\site-packages\\google\\api_core\\retry\\retry_unary.py:153\u001b[0m, in \u001b[0;36mretry_target\u001b[1;34m(target, predicate, sleep_generator, timeout, on_error, exception_factory, **kwargs)\u001b[0m\n\u001b[0;32m    149\u001b[0m \u001b[38;5;66;03m# pylint: disable=broad-except\u001b[39;00m\n\u001b[0;32m    150\u001b[0m \u001b[38;5;66;03m# This function explicitly must deal with broad exceptions.\u001b[39;00m\n\u001b[0;32m    151\u001b[0m \u001b[38;5;28;01mexcept\u001b[39;00m \u001b[38;5;167;01mException\u001b[39;00m \u001b[38;5;28;01mas\u001b[39;00m exc:\n\u001b[0;32m    152\u001b[0m     \u001b[38;5;66;03m# defer to shared logic for handling errors\u001b[39;00m\n\u001b[1;32m--> 153\u001b[0m     _retry_error_helper(\n\u001b[0;32m    154\u001b[0m         exc,\n\u001b[0;32m    155\u001b[0m         deadline,\n\u001b[0;32m    156\u001b[0m         sleep,\n\u001b[0;32m    157\u001b[0m         error_list,\n\u001b[0;32m    158\u001b[0m         predicate,\n\u001b[0;32m    159\u001b[0m         on_error,\n\u001b[0;32m    160\u001b[0m         exception_factory,\n\u001b[0;32m    161\u001b[0m         timeout,\n\u001b[0;32m    162\u001b[0m     )\n\u001b[0;32m    163\u001b[0m     \u001b[38;5;66;03m# if exception not raised, sleep before next attempt\u001b[39;00m\n\u001b[0;32m    164\u001b[0m     time\u001b[38;5;241m.\u001b[39msleep(sleep)\n",
      "File \u001b[1;32m~\\anaconda3\\Lib\\site-packages\\google\\api_core\\retry\\retry_base.py:212\u001b[0m, in \u001b[0;36m_retry_error_helper\u001b[1;34m(exc, deadline, next_sleep, error_list, predicate_fn, on_error_fn, exc_factory_fn, original_timeout)\u001b[0m\n\u001b[0;32m    206\u001b[0m \u001b[38;5;28;01mif\u001b[39;00m \u001b[38;5;129;01mnot\u001b[39;00m predicate_fn(exc):\n\u001b[0;32m    207\u001b[0m     final_exc, source_exc \u001b[38;5;241m=\u001b[39m exc_factory_fn(\n\u001b[0;32m    208\u001b[0m         error_list,\n\u001b[0;32m    209\u001b[0m         RetryFailureReason\u001b[38;5;241m.\u001b[39mNON_RETRYABLE_ERROR,\n\u001b[0;32m    210\u001b[0m         original_timeout,\n\u001b[0;32m    211\u001b[0m     )\n\u001b[1;32m--> 212\u001b[0m     \u001b[38;5;28;01mraise\u001b[39;00m final_exc \u001b[38;5;28;01mfrom\u001b[39;00m \u001b[38;5;21;01msource_exc\u001b[39;00m\n\u001b[0;32m    213\u001b[0m \u001b[38;5;28;01mif\u001b[39;00m on_error_fn \u001b[38;5;129;01mis\u001b[39;00m \u001b[38;5;129;01mnot\u001b[39;00m \u001b[38;5;28;01mNone\u001b[39;00m:\n\u001b[0;32m    214\u001b[0m     on_error_fn(exc)\n",
      "File \u001b[1;32m~\\anaconda3\\Lib\\site-packages\\google\\api_core\\retry\\retry_unary.py:144\u001b[0m, in \u001b[0;36mretry_target\u001b[1;34m(target, predicate, sleep_generator, timeout, on_error, exception_factory, **kwargs)\u001b[0m\n\u001b[0;32m    142\u001b[0m \u001b[38;5;28;01mfor\u001b[39;00m sleep \u001b[38;5;129;01min\u001b[39;00m sleep_generator:\n\u001b[0;32m    143\u001b[0m     \u001b[38;5;28;01mtry\u001b[39;00m:\n\u001b[1;32m--> 144\u001b[0m         result \u001b[38;5;241m=\u001b[39m target()\n\u001b[0;32m    145\u001b[0m         \u001b[38;5;28;01mif\u001b[39;00m inspect\u001b[38;5;241m.\u001b[39misawaitable(result):\n\u001b[0;32m    146\u001b[0m             warnings\u001b[38;5;241m.\u001b[39mwarn(_ASYNC_RETRY_WARNING)\n",
      "File \u001b[1;32m~\\anaconda3\\Lib\\site-packages\\google\\cloud\\_http\\__init__.py:482\u001b[0m, in \u001b[0;36mJSONConnection.api_request\u001b[1;34m(self, method, path, query_params, data, content_type, headers, api_base_url, api_version, expect_json, _target_object, timeout, extra_api_info)\u001b[0m\n\u001b[0;32m    479\u001b[0m     data \u001b[38;5;241m=\u001b[39m json\u001b[38;5;241m.\u001b[39mdumps(data)\n\u001b[0;32m    480\u001b[0m     content_type \u001b[38;5;241m=\u001b[39m \u001b[38;5;124m\"\u001b[39m\u001b[38;5;124mapplication/json\u001b[39m\u001b[38;5;124m\"\u001b[39m\n\u001b[1;32m--> 482\u001b[0m response \u001b[38;5;241m=\u001b[39m \u001b[38;5;28mself\u001b[39m\u001b[38;5;241m.\u001b[39m_make_request(\n\u001b[0;32m    483\u001b[0m     method\u001b[38;5;241m=\u001b[39mmethod,\n\u001b[0;32m    484\u001b[0m     url\u001b[38;5;241m=\u001b[39murl,\n\u001b[0;32m    485\u001b[0m     data\u001b[38;5;241m=\u001b[39mdata,\n\u001b[0;32m    486\u001b[0m     content_type\u001b[38;5;241m=\u001b[39mcontent_type,\n\u001b[0;32m    487\u001b[0m     headers\u001b[38;5;241m=\u001b[39mheaders,\n\u001b[0;32m    488\u001b[0m     target_object\u001b[38;5;241m=\u001b[39m_target_object,\n\u001b[0;32m    489\u001b[0m     timeout\u001b[38;5;241m=\u001b[39mtimeout,\n\u001b[0;32m    490\u001b[0m     extra_api_info\u001b[38;5;241m=\u001b[39mextra_api_info,\n\u001b[0;32m    491\u001b[0m )\n\u001b[0;32m    493\u001b[0m \u001b[38;5;28;01mif\u001b[39;00m \u001b[38;5;129;01mnot\u001b[39;00m \u001b[38;5;241m200\u001b[39m \u001b[38;5;241m<\u001b[39m\u001b[38;5;241m=\u001b[39m response\u001b[38;5;241m.\u001b[39mstatus_code \u001b[38;5;241m<\u001b[39m \u001b[38;5;241m300\u001b[39m:\n\u001b[0;32m    494\u001b[0m     \u001b[38;5;28;01mraise\u001b[39;00m exceptions\u001b[38;5;241m.\u001b[39mfrom_http_response(response)\n",
      "File \u001b[1;32m~\\anaconda3\\Lib\\site-packages\\google\\cloud\\_http\\__init__.py:341\u001b[0m, in \u001b[0;36mJSONConnection._make_request\u001b[1;34m(self, method, url, data, content_type, headers, target_object, timeout, extra_api_info)\u001b[0m\n\u001b[0;32m    338\u001b[0m     headers[CLIENT_INFO_HEADER] \u001b[38;5;241m=\u001b[39m \u001b[38;5;28mself\u001b[39m\u001b[38;5;241m.\u001b[39muser_agent\n\u001b[0;32m    339\u001b[0m headers[\u001b[38;5;124m\"\u001b[39m\u001b[38;5;124mUser-Agent\u001b[39m\u001b[38;5;124m\"\u001b[39m] \u001b[38;5;241m=\u001b[39m \u001b[38;5;28mself\u001b[39m\u001b[38;5;241m.\u001b[39muser_agent\n\u001b[1;32m--> 341\u001b[0m \u001b[38;5;28;01mreturn\u001b[39;00m \u001b[38;5;28mself\u001b[39m\u001b[38;5;241m.\u001b[39m_do_request(\n\u001b[0;32m    342\u001b[0m     method, url, headers, data, target_object, timeout\u001b[38;5;241m=\u001b[39mtimeout\n\u001b[0;32m    343\u001b[0m )\n",
      "File \u001b[1;32m~\\anaconda3\\Lib\\site-packages\\google\\cloud\\_http\\__init__.py:379\u001b[0m, in \u001b[0;36mJSONConnection._do_request\u001b[1;34m(self, method, url, headers, data, target_object, timeout)\u001b[0m\n\u001b[0;32m    345\u001b[0m \u001b[38;5;28;01mdef\u001b[39;00m \u001b[38;5;21m_do_request\u001b[39m(\n\u001b[0;32m    346\u001b[0m     \u001b[38;5;28mself\u001b[39m, method, url, headers, data, target_object, timeout\u001b[38;5;241m=\u001b[39m_DEFAULT_TIMEOUT\n\u001b[0;32m    347\u001b[0m ):  \u001b[38;5;66;03m# pylint: disable=unused-argument\u001b[39;00m\n\u001b[0;32m    348\u001b[0m \u001b[38;5;250m    \u001b[39m\u001b[38;5;124;03m\"\"\"Low-level helper:  perform the actual API request over HTTP.\u001b[39;00m\n\u001b[0;32m    349\u001b[0m \n\u001b[0;32m    350\u001b[0m \u001b[38;5;124;03m    Allows batch context managers to override and defer a request.\u001b[39;00m\n\u001b[1;32m   (...)\u001b[0m\n\u001b[0;32m    377\u001b[0m \u001b[38;5;124;03m    :returns: The HTTP response.\u001b[39;00m\n\u001b[0;32m    378\u001b[0m \u001b[38;5;124;03m    \"\"\"\u001b[39;00m\n\u001b[1;32m--> 379\u001b[0m     \u001b[38;5;28;01mreturn\u001b[39;00m \u001b[38;5;28mself\u001b[39m\u001b[38;5;241m.\u001b[39mhttp\u001b[38;5;241m.\u001b[39mrequest(\n\u001b[0;32m    380\u001b[0m         url\u001b[38;5;241m=\u001b[39murl, method\u001b[38;5;241m=\u001b[39mmethod, headers\u001b[38;5;241m=\u001b[39mheaders, data\u001b[38;5;241m=\u001b[39mdata, timeout\u001b[38;5;241m=\u001b[39mtimeout\n\u001b[0;32m    381\u001b[0m     )\n",
      "File \u001b[1;32m~\\anaconda3\\Lib\\site-packages\\google\\auth\\transport\\requests.py:533\u001b[0m, in \u001b[0;36mAuthorizedSession.request\u001b[1;34m(self, method, url, data, headers, max_allowed_time, timeout, **kwargs)\u001b[0m\n\u001b[0;32m    530\u001b[0m remaining_time \u001b[38;5;241m=\u001b[39m max_allowed_time\n\u001b[0;32m    532\u001b[0m \u001b[38;5;28;01mwith\u001b[39;00m TimeoutGuard(remaining_time) \u001b[38;5;28;01mas\u001b[39;00m guard:\n\u001b[1;32m--> 533\u001b[0m     \u001b[38;5;28mself\u001b[39m\u001b[38;5;241m.\u001b[39mcredentials\u001b[38;5;241m.\u001b[39mbefore_request(auth_request, method, url, request_headers)\n\u001b[0;32m    534\u001b[0m remaining_time \u001b[38;5;241m=\u001b[39m guard\u001b[38;5;241m.\u001b[39mremaining_timeout\n\u001b[0;32m    536\u001b[0m \u001b[38;5;28;01mwith\u001b[39;00m TimeoutGuard(remaining_time) \u001b[38;5;28;01mas\u001b[39;00m guard:\n",
      "File \u001b[1;32m~\\anaconda3\\Lib\\site-packages\\google\\auth\\credentials.py:239\u001b[0m, in \u001b[0;36mCredentials.before_request\u001b[1;34m(self, request, method, url, headers)\u001b[0m\n\u001b[0;32m    237\u001b[0m     \u001b[38;5;28mself\u001b[39m\u001b[38;5;241m.\u001b[39m_non_blocking_refresh(request)\n\u001b[0;32m    238\u001b[0m \u001b[38;5;28;01melse\u001b[39;00m:\n\u001b[1;32m--> 239\u001b[0m     \u001b[38;5;28mself\u001b[39m\u001b[38;5;241m.\u001b[39m_blocking_refresh(request)\n\u001b[0;32m    241\u001b[0m metrics\u001b[38;5;241m.\u001b[39madd_metric_header(headers, \u001b[38;5;28mself\u001b[39m\u001b[38;5;241m.\u001b[39m_metric_header_for_usage())\n\u001b[0;32m    242\u001b[0m \u001b[38;5;28mself\u001b[39m\u001b[38;5;241m.\u001b[39mapply(headers)\n",
      "File \u001b[1;32m~\\anaconda3\\Lib\\site-packages\\google\\auth\\credentials.py:202\u001b[0m, in \u001b[0;36mCredentials._blocking_refresh\u001b[1;34m(self, request)\u001b[0m\n\u001b[0;32m    200\u001b[0m \u001b[38;5;28;01mdef\u001b[39;00m \u001b[38;5;21m_blocking_refresh\u001b[39m(\u001b[38;5;28mself\u001b[39m, request):\n\u001b[0;32m    201\u001b[0m     \u001b[38;5;28;01mif\u001b[39;00m \u001b[38;5;129;01mnot\u001b[39;00m \u001b[38;5;28mself\u001b[39m\u001b[38;5;241m.\u001b[39mvalid:\n\u001b[1;32m--> 202\u001b[0m         \u001b[38;5;28mself\u001b[39m\u001b[38;5;241m.\u001b[39mrefresh(request)\n",
      "File \u001b[1;32m~\\anaconda3\\Lib\\site-packages\\google\\oauth2\\service_account.py:448\u001b[0m, in \u001b[0;36mCredentials.refresh\u001b[1;34m(self, request)\u001b[0m\n\u001b[0;32m    446\u001b[0m \u001b[38;5;28;01melse\u001b[39;00m:\n\u001b[0;32m    447\u001b[0m     assertion \u001b[38;5;241m=\u001b[39m \u001b[38;5;28mself\u001b[39m\u001b[38;5;241m.\u001b[39m_make_authorization_grant_assertion()\n\u001b[1;32m--> 448\u001b[0m     access_token, expiry, _ \u001b[38;5;241m=\u001b[39m _client\u001b[38;5;241m.\u001b[39mjwt_grant(\n\u001b[0;32m    449\u001b[0m         request, \u001b[38;5;28mself\u001b[39m\u001b[38;5;241m.\u001b[39m_token_uri, assertion\n\u001b[0;32m    450\u001b[0m     )\n\u001b[0;32m    451\u001b[0m     \u001b[38;5;28mself\u001b[39m\u001b[38;5;241m.\u001b[39mtoken \u001b[38;5;241m=\u001b[39m access_token\n\u001b[0;32m    452\u001b[0m     \u001b[38;5;28mself\u001b[39m\u001b[38;5;241m.\u001b[39mexpiry \u001b[38;5;241m=\u001b[39m expiry\n",
      "File \u001b[1;32m~\\anaconda3\\Lib\\site-packages\\google\\oauth2\\_client.py:299\u001b[0m, in \u001b[0;36mjwt_grant\u001b[1;34m(request, token_uri, assertion, can_retry)\u001b[0m\n\u001b[0;32m    275\u001b[0m \u001b[38;5;250m\u001b[39m\u001b[38;5;124;03m\"\"\"Implements the JWT Profile for OAuth 2.0 Authorization Grants.\u001b[39;00m\n\u001b[0;32m    276\u001b[0m \n\u001b[0;32m    277\u001b[0m \u001b[38;5;124;03mFor more details, see `rfc7523 section 4`_.\u001b[39;00m\n\u001b[1;32m   (...)\u001b[0m\n\u001b[0;32m    295\u001b[0m \u001b[38;5;124;03m.. _rfc7523 section 4: https://tools.ietf.org/html/rfc7523#section-4\u001b[39;00m\n\u001b[0;32m    296\u001b[0m \u001b[38;5;124;03m\"\"\"\u001b[39;00m\n\u001b[0;32m    297\u001b[0m body \u001b[38;5;241m=\u001b[39m {\u001b[38;5;124m\"\u001b[39m\u001b[38;5;124massertion\u001b[39m\u001b[38;5;124m\"\u001b[39m: assertion, \u001b[38;5;124m\"\u001b[39m\u001b[38;5;124mgrant_type\u001b[39m\u001b[38;5;124m\"\u001b[39m: _JWT_GRANT_TYPE}\n\u001b[1;32m--> 299\u001b[0m response_data \u001b[38;5;241m=\u001b[39m _token_endpoint_request(\n\u001b[0;32m    300\u001b[0m     request,\n\u001b[0;32m    301\u001b[0m     token_uri,\n\u001b[0;32m    302\u001b[0m     body,\n\u001b[0;32m    303\u001b[0m     can_retry\u001b[38;5;241m=\u001b[39mcan_retry,\n\u001b[0;32m    304\u001b[0m     headers\u001b[38;5;241m=\u001b[39m{\n\u001b[0;32m    305\u001b[0m         metrics\u001b[38;5;241m.\u001b[39mAPI_CLIENT_HEADER: metrics\u001b[38;5;241m.\u001b[39mtoken_request_access_token_sa_assertion()\n\u001b[0;32m    306\u001b[0m     },\n\u001b[0;32m    307\u001b[0m )\n\u001b[0;32m    309\u001b[0m \u001b[38;5;28;01mtry\u001b[39;00m:\n\u001b[0;32m    310\u001b[0m     access_token \u001b[38;5;241m=\u001b[39m response_data[\u001b[38;5;124m\"\u001b[39m\u001b[38;5;124maccess_token\u001b[39m\u001b[38;5;124m\"\u001b[39m]\n",
      "File \u001b[1;32m~\\anaconda3\\Lib\\site-packages\\google\\oauth2\\_client.py:270\u001b[0m, in \u001b[0;36m_token_endpoint_request\u001b[1;34m(request, token_uri, body, access_token, use_json, can_retry, headers, **kwargs)\u001b[0m\n\u001b[0;32m    259\u001b[0m response_status_ok, response_data, retryable_error \u001b[38;5;241m=\u001b[39m _token_endpoint_request_no_throw(\n\u001b[0;32m    260\u001b[0m     request,\n\u001b[0;32m    261\u001b[0m     token_uri,\n\u001b[1;32m   (...)\u001b[0m\n\u001b[0;32m    267\u001b[0m     \u001b[38;5;241m*\u001b[39m\u001b[38;5;241m*\u001b[39mkwargs\n\u001b[0;32m    268\u001b[0m )\n\u001b[0;32m    269\u001b[0m \u001b[38;5;28;01mif\u001b[39;00m \u001b[38;5;129;01mnot\u001b[39;00m response_status_ok:\n\u001b[1;32m--> 270\u001b[0m     _handle_error_response(response_data, retryable_error)\n\u001b[0;32m    271\u001b[0m \u001b[38;5;28;01mreturn\u001b[39;00m response_data\n",
      "File \u001b[1;32m~\\anaconda3\\Lib\\site-packages\\google\\oauth2\\_client.py:69\u001b[0m, in \u001b[0;36m_handle_error_response\u001b[1;34m(response_data, retryable_error)\u001b[0m\n\u001b[0;32m     66\u001b[0m \u001b[38;5;28;01mexcept\u001b[39;00m (\u001b[38;5;167;01mKeyError\u001b[39;00m, \u001b[38;5;167;01mValueError\u001b[39;00m):\n\u001b[0;32m     67\u001b[0m     error_details \u001b[38;5;241m=\u001b[39m json\u001b[38;5;241m.\u001b[39mdumps(response_data)\n\u001b[1;32m---> 69\u001b[0m \u001b[38;5;28;01mraise\u001b[39;00m exceptions\u001b[38;5;241m.\u001b[39mRefreshError(\n\u001b[0;32m     70\u001b[0m     error_details, response_data, retryable\u001b[38;5;241m=\u001b[39mretryable_error\n\u001b[0;32m     71\u001b[0m )\n",
      "\u001b[1;31mRefreshError\u001b[0m: ('invalid_grant: Invalid JWT Signature.', {'error': 'invalid_grant', 'error_description': 'Invalid JWT Signature.'})"
     ]
    }
   ],
   "source": [
    "if __name__ == '__main__':\n",
    "    department_csv = 'https://raw.githubusercontent.com/lucianosantosg3/Globlant_Challange/refs/heads/main/departments.csv'\n",
    "    job_csv = 'https://raw.githubusercontent.com/lucianosantosg3/Globlant_Challange/refs/heads/main/jobs.csv'\n",
    "    employee_csv = 'https://raw.githubusercontent.com/lucianosantosg3/Globlant_Challange/refs/heads/main/hired_employees.csv'\n",
    "    \n",
    "    # Read CSVs\n",
    "    department = load_departments(department_csv, ['id','department'])\n",
    "    job = load_jobs(job_csv, ['id','job'])\n",
    "    employee = load_employees(employee_csv,['id','name','datetime','department_id','job_id'])\n",
    "    employee = process_employee(employee)\n",
    "    \n",
    "   # Credentials:\n",
    "    credentials = service_account.Credentials.from_service_account_file(\n",
    "        'C:\\\\Users\\\\lucia\\\\Documents\\\\GBQ.json',\n",
    "        scopes=['https://www.googleapis.com/auth/bigquery']\n",
    "    )\n",
    "    \n",
    "    table_schema = [\n",
    "    {'name': 'id', 'type': 'INTEGER'},\n",
    "    {'name': 'department', 'type': 'STRING'}  # Explicitly setting as DATE\n",
    "    ]\n",
    "\n",
    "    department.to_gbq(credentials=credentials,\n",
    "                                 destination_table='dataset.department',\n",
    "                                 if_exists='replace',\n",
    "                                 table_schema=table_schema)\n",
    "\n",
    "    table_schema = [\n",
    "    {'name': 'id', 'type': 'INTEGER'},\n",
    "    {'name': 'name', 'type': 'STRING'},\n",
    "    {'name': 'datetime', 'type': 'DATE'},\n",
    "    {'name': 'department_id', 'type': 'INTEGER'},\n",
    "    {'name': 'job_id', 'type': 'INTEGER'}\n",
    "    ]\n",
    "\n",
    "    employee.to_gbq(credentials=credentials,\n",
    "                                 destination_table='dataset.employee',\n",
    "                                 if_exists='replace',\n",
    "                                 table_schema=table_schema)\n",
    "\n",
    "    table_schema = [\n",
    "    {'name': 'id', 'type': 'INTEGER'},\n",
    "    {'name': 'job', 'type': 'STRING'}  # Explicitly setting as DATE\n",
    "    ]\n",
    "\n",
    "    job.to_gbq(credentials=credentials,\n",
    "                                 destination_table='dataset.job',\n",
    "                                 if_exists='replace',\n",
    "                                  table_schema=table_schema)\n"
   ]
  },
  {
   "cell_type": "code",
   "execution_count": null,
   "id": "4237ba78-d7f1-4d06-a63d-06b412ab484a",
   "metadata": {},
   "outputs": [],
   "source": []
  }
 ],
 "metadata": {
  "kernelspec": {
   "display_name": "Python 3 (ipykernel)",
   "language": "python",
   "name": "python3"
  },
  "language_info": {
   "codemirror_mode": {
    "name": "ipython",
    "version": 3
   },
   "file_extension": ".py",
   "mimetype": "text/x-python",
   "name": "python",
   "nbconvert_exporter": "python",
   "pygments_lexer": "ipython3",
   "version": "3.12.7"
  }
 },
 "nbformat": 4,
 "nbformat_minor": 5
}
